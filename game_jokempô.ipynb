{
  "nbformat": 4,
  "nbformat_minor": 0,
  "metadata": {
    "colab": {
      "name": "game jokempô",
      "provenance": [],
      "authorship_tag": "ABX9TyN0Z3UpQbFwT3lnZKDq6Ulu",
      "include_colab_link": true
    },
    "kernelspec": {
      "name": "python3",
      "display_name": "Python 3"
    },
    "language_info": {
      "name": "python"
    }
  },
  "cells": [
    {
      "cell_type": "markdown",
      "metadata": {
        "id": "view-in-github",
        "colab_type": "text"
      },
      "source": [
        "<a href=\"https://colab.research.google.com/github/Denis-Wendell/Denis-Wendell/blob/main/game_jokemp%C3%B4.ipynb\" target=\"_parent\"><img src=\"https://colab.research.google.com/assets/colab-badge.svg\" alt=\"Open In Colab\"/></a>"
      ]
    },
    {
      "cell_type": "code",
      "execution_count": 1,
      "metadata": {
        "colab": {
          "base_uri": "https://localhost:8080/"
        },
        "id": "9499I0_uCuZt",
        "outputId": "6df0c057-f550-4793-a712-32a132df0eb8"
      },
      "outputs": [
        {
          "output_type": "stream",
          "name": "stdout",
          "text": [
            "PREPARE-SE, VAMOS JOGAR JOKENPÔ!\n",
            "\n",
            "===Veja abaixo suas opções:===\n",
            "  [ 0 ] Pedra\n",
            "  [ 1 ] Papel\n",
            "  [ 2 ] Tesoura\n",
            "==============================\n",
            "Digite a Opção desejável: 0\n",
            "=-==-==-==-==-==-==-==-==-==-=\n",
            "          JO \n",
            "          KEN \n",
            "          PÔ \n",
            "=-==-==-==-==-==-==-==-==-==-=\n",
            "==============================\n",
            "Aderbaldo escolheu Tesoura\n",
            "Voçê escolheu Pedra \n",
            "==============================\n",
            "Voçê GANHOU a partida!!! \n"
          ]
        }
      ],
      "source": [
        "from random import randint\n",
        "from time import sleep\n",
        "\n",
        "item = ('Pedra', 'Papel', 'Tesoura')\n",
        "Pc = randint(0,2)\n",
        "print('PREPARE-SE, VAMOS JOGAR JOKENPÔ!\\n')\n",
        "\n",
        "sleep(0.8)\n",
        "print('{:=^30}'.format('Veja abaixo suas opções:'))\n",
        "sleep(1)\n",
        "objetos = ('  [ 0 ] Pedra', '  [ 1 ] Papel', '  [ 2 ] Tesoura')\n",
        "for obj in objetos:\n",
        "  print(obj)\n",
        "  sleep(0.5)\n",
        "\n",
        "print('='*30)\n",
        "sleep(0.8)\n",
        "jogador = int(input('Digite a Opção desejável: '))\n",
        "print( '=-='* 10)\n",
        "lis = (\"          JO\", \"          KEN\", \"          PÔ\")\n",
        "for i in lis:\n",
        "  print(f'{i} ' )\n",
        "  sleep(0.5)\n",
        "print( '=-='* 10),('\\n')\n",
        "\n",
        "sleep(1.5)\n",
        "print( '='* 30)\n",
        "print('Aderbaldo escolheu {}'.format(item[Pc]))\n",
        "print('Voçê escolheu {} '.format(item[jogador]))\n",
        "print( '='* 30)\n",
        "\n",
        "sleep(1)\n",
        "if Pc == 0:\n",
        "  if jogador == 0:\n",
        "    print('O resultado da partida deu EMPATE!!!')\n",
        "  elif jogador == 1:\n",
        "    print('Voçê GANHOU a partida!!! ')\n",
        "  elif jogador == 2:\n",
        "    print('Aderbaldo GANHOU a partida!!!')\n",
        "\n",
        "elif Pc == 1:\n",
        "  if jogador == 1:\n",
        "    print('O resultado da partida deu EMPATE!!!')\n",
        "  elif jogador == 2:\n",
        "    print('Voçê GANHOU a partida!!! ')\n",
        "  elif jogador == 0:\n",
        "    print('Aderbaldo GANHOU a partida!!!')\n",
        "\n",
        "elif Pc == 2:\n",
        "  if jogador == 2:\n",
        "    print('O resultado da partida deu EMPATE!!!')\n",
        "  elif jogador == 0:\n",
        "    print('Voçê GANHOU a partida!!! ')\n",
        "  elif jogador == 1:\n",
        "    print('Aderbaldo GANHOU a partida!!!')"
      ]
    }
  ]
}